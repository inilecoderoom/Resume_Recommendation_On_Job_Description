{
 "cells": [
  {
   "cell_type": "markdown",
   "id": "df7575c5-ac23-4a08-8a3c-ddf2969de317",
   "metadata": {},
   "source": [
    "## Resume Recommendation"
   ]
  },
  {
   "cell_type": "markdown",
   "id": "04968fe6-9b88-47c9-aa2e-ad7b9157c1ad",
   "metadata": {},
   "source": [
    "#### Importing libraries"
   ]
  },
  {
   "cell_type": "code",
   "execution_count": 1,
   "id": "45c47f86",
   "metadata": {},
   "outputs": [],
   "source": [
    "import warnings\n",
    "warnings.filterwarnings('ignore')"
   ]
  },
  {
   "cell_type": "code",
   "execution_count": 2,
   "id": "7a510adb",
   "metadata": {},
   "outputs": [],
   "source": [
    "import pandas as pd\n",
    "import numpy as np\n",
    "import os\n",
    "\n",
    "# import fitz\n",
    "# from PyPDF2 import PdfReader\n",
    "\n",
    "import sys\n",
    "from pyresparser import ResumeParser\n",
    "\n",
    "import torch as tr\n",
    "from transformers import DistilBertModel, DistilBertTokenizer\n",
    "\n",
    "import re\n",
    "import nltk\n",
    "# nltk.download('wordnet')\n",
    "# from nltk.stem import WordNetLemmatizer\n",
    "# wordnet_lemmatizer = WordNetLemmatizer()\n",
    "\n",
    "from nltk.corpus import stopwords\n",
    "stop_words = set(stopwords.words('english'))\n",
    "\n",
    "from sklearn.metrics.pairwise import cosine_similarity\n",
    "# sys.executable"
   ]
  },
  {
   "cell_type": "markdown",
   "id": "d5acdd0f-5a61-4d5e-95a3-7ac917b0ce10",
   "metadata": {},
   "source": [
    "#### Getting Data Path"
   ]
  },
  {
   "cell_type": "code",
   "execution_count": 3,
   "id": "08f81bd9",
   "metadata": {},
   "outputs": [],
   "source": [
    "resume_data = \"./Resume-Data/data/\"\n",
    "skills_data = \"./Resume-Data/skills.csv\"\n",
    "job_data = \"./Resume-Data/training_data.csv\""
   ]
  },
  {
   "cell_type": "markdown",
   "id": "98ee220f-e081-4e44-b1fd-f9b50bd01d74",
   "metadata": {},
   "source": [
    "#### Using pyresparser to extract skills from PDF"
   ]
  },
  {
   "cell_type": "code",
   "execution_count": 4,
   "id": "cffa042c",
   "metadata": {},
   "outputs": [
    {
     "data": {
      "text/html": [
       "<div>\n",
       "<style scoped>\n",
       "    .dataframe tbody tr th:only-of-type {\n",
       "        vertical-align: middle;\n",
       "    }\n",
       "\n",
       "    .dataframe tbody tr th {\n",
       "        vertical-align: top;\n",
       "    }\n",
       "\n",
       "    .dataframe thead th {\n",
       "        text-align: right;\n",
       "    }\n",
       "</style>\n",
       "<table border=\"1\" class=\"dataframe\">\n",
       "  <thead>\n",
       "    <tr style=\"text-align: right;\">\n",
       "      <th></th>\n",
       "      <th>Res_id</th>\n",
       "      <th>Position</th>\n",
       "      <th>Skills</th>\n",
       "      <th>Path</th>\n",
       "    </tr>\n",
       "  </thead>\n",
       "  <tbody>\n",
       "    <tr>\n",
       "      <th>0</th>\n",
       "      <td>10554236</td>\n",
       "      <td>ACCOUNTANT Summary</td>\n",
       "      <td>Transportation Documentation Erp Safety Metric...</td>\n",
       "      <td>./Resume-Data/data/ACCOUNTANT/10554236.pdf</td>\n",
       "    </tr>\n",
       "    <tr>\n",
       "      <th>1</th>\n",
       "      <td>10674770</td>\n",
       "      <td>STAFF ACCOUNTANT</td>\n",
       "      <td>Inventory Documentation Deposits Customer serv...</td>\n",
       "      <td>./Resume-Data/data/ACCOUNTANT/10674770.pdf</td>\n",
       "    </tr>\n",
       "    <tr>\n",
       "      <th>2</th>\n",
       "      <td>11163645</td>\n",
       "      <td>ACCOUNTANT Professional</td>\n",
       "      <td>Mortgage Inventory Customer service Transactio...</td>\n",
       "      <td>./Resume-Data/data/ACCOUNTANT/11163645.pdf</td>\n",
       "    </tr>\n",
       "    <tr>\n",
       "      <th>3</th>\n",
       "      <td>11759079</td>\n",
       "      <td>SENIOR ACCOUNTANT</td>\n",
       "      <td>Mortgage Inventory Controls Process Improvemen...</td>\n",
       "      <td>./Resume-Data/data/ACCOUNTANT/11759079.pdf</td>\n",
       "    </tr>\n",
       "    <tr>\n",
       "      <th>4</th>\n",
       "      <td>12065211</td>\n",
       "      <td>SENIOR ACCOUNTANT</td>\n",
       "      <td>Inventory Documentation Controls Cms Transacti...</td>\n",
       "      <td>./Resume-Data/data/ACCOUNTANT/12065211.pdf</td>\n",
       "    </tr>\n",
       "    <tr>\n",
       "      <th>...</th>\n",
       "      <td>...</td>\n",
       "      <td>...</td>\n",
       "      <td>...</td>\n",
       "      <td>...</td>\n",
       "    </tr>\n",
       "    <tr>\n",
       "      <th>495</th>\n",
       "      <td>93576192</td>\n",
       "      <td>Â Accomplishments</td>\n",
       "      <td>Design Testing Video Data analysis English Tea...</td>\n",
       "      <td>./Resume-Data/data/ARTS/93576192.pdf</td>\n",
       "    </tr>\n",
       "    <tr>\n",
       "      <th>496</th>\n",
       "      <td>94230796</td>\n",
       "      <td>LIBRARY AIDE</td>\n",
       "      <td>Documentation Safety Transactions Communicatio...</td>\n",
       "      <td>./Resume-Data/data/ARTS/94230796.pdf</td>\n",
       "    </tr>\n",
       "    <tr>\n",
       "      <th>497</th>\n",
       "      <td>99033098</td>\n",
       "      <td>CASHIER Receptionist</td>\n",
       "      <td>Data collection Documentation Deposits Custome...</td>\n",
       "      <td>./Resume-Data/data/ARTS/99033098.pdf</td>\n",
       "    </tr>\n",
       "    <tr>\n",
       "      <th>498</th>\n",
       "      <td>99561379</td>\n",
       "      <td>ASSISTANT DIRECTOR</td>\n",
       "      <td>Documentation Chemistry Safety Controls Staffi...</td>\n",
       "      <td>./Resume-Data/data/ARTS/99561379.pdf</td>\n",
       "    </tr>\n",
       "    <tr>\n",
       "      <th>499</th>\n",
       "      <td>11152490</td>\n",
       "      <td>DEPUTY PRINCIPAL</td>\n",
       "      <td>Photoshop Employee relations Statistics Lean M...</td>\n",
       "      <td>./Resume-Data/data/AUTOMOBILE/11152490.pdf</td>\n",
       "    </tr>\n",
       "  </tbody>\n",
       "</table>\n",
       "<p>500 rows × 4 columns</p>\n",
       "</div>"
      ],
      "text/plain": [
       "       Res_id                 Position  \\\n",
       "0    10554236       ACCOUNTANT Summary   \n",
       "1    10674770         STAFF ACCOUNTANT   \n",
       "2    11163645  ACCOUNTANT Professional   \n",
       "3    11759079        SENIOR ACCOUNTANT   \n",
       "4    12065211        SENIOR ACCOUNTANT   \n",
       "..        ...                      ...   \n",
       "495  93576192        Â Accomplishments   \n",
       "496  94230796             LIBRARY AIDE   \n",
       "497  99033098     CASHIER Receptionist   \n",
       "498  99561379       ASSISTANT DIRECTOR   \n",
       "499  11152490         DEPUTY PRINCIPAL   \n",
       "\n",
       "                                                Skills  \\\n",
       "0    Transportation Documentation Erp Safety Metric...   \n",
       "1    Inventory Documentation Deposits Customer serv...   \n",
       "2    Mortgage Inventory Customer service Transactio...   \n",
       "3    Mortgage Inventory Controls Process Improvemen...   \n",
       "4    Inventory Documentation Controls Cms Transacti...   \n",
       "..                                                 ...   \n",
       "495  Design Testing Video Data analysis English Tea...   \n",
       "496  Documentation Safety Transactions Communicatio...   \n",
       "497  Data collection Documentation Deposits Custome...   \n",
       "498  Documentation Chemistry Safety Controls Staffi...   \n",
       "499  Photoshop Employee relations Statistics Lean M...   \n",
       "\n",
       "                                           Path  \n",
       "0    ./Resume-Data/data/ACCOUNTANT/10554236.pdf  \n",
       "1    ./Resume-Data/data/ACCOUNTANT/10674770.pdf  \n",
       "2    ./Resume-Data/data/ACCOUNTANT/11163645.pdf  \n",
       "3    ./Resume-Data/data/ACCOUNTANT/11759079.pdf  \n",
       "4    ./Resume-Data/data/ACCOUNTANT/12065211.pdf  \n",
       "..                                          ...  \n",
       "495        ./Resume-Data/data/ARTS/93576192.pdf  \n",
       "496        ./Resume-Data/data/ARTS/94230796.pdf  \n",
       "497        ./Resume-Data/data/ARTS/99033098.pdf  \n",
       "498        ./Resume-Data/data/ARTS/99561379.pdf  \n",
       "499  ./Resume-Data/data/AUTOMOBILE/11152490.pdf  \n",
       "\n",
       "[500 rows x 4 columns]"
      ]
     },
     "execution_count": 4,
     "metadata": {},
     "output_type": "execute_result"
    }
   ],
   "source": [
    "path = [os.path.join(resume_data,i) for i in os.listdir(resume_data)]\n",
    "path_list = [os.path.join(items, x).replace(\"\\\\\",\"/\") for items in path for x in os.listdir(items)]\n",
    "res_data = []\n",
    "# for i in range(len(path_list)):\n",
    "for i in range(500):\n",
    "    data = ResumeParser(path_list[i]).get_extracted_data()\n",
    "    res_data.append([path_list[i].split('/')[-1].split('.')[0], data['name'], (\" \".join(data['skills'])).strip(\",\"), path_list[i]])\n",
    "\n",
    "res_data = pd.DataFrame(res_data, columns = ['Res_id','Position','Skills', 'Path'])\n",
    "res_data\n",
    "                        "
   ]
  },
  {
   "cell_type": "code",
   "execution_count": 5,
   "id": "781f4039-56bf-41df-bd07-38946f9a08ea",
   "metadata": {},
   "outputs": [
    {
     "data": {
      "text/plain": [
       "500"
      ]
     },
     "execution_count": 5,
     "metadata": {},
     "output_type": "execute_result"
    }
   ],
   "source": [
    "len(res_data)"
   ]
  },
  {
   "cell_type": "markdown",
   "id": "fa10eada-9a21-4dac-80f7-d5a684924ae0",
   "metadata": {},
   "source": [
    "#### Reading Job_Description"
   ]
  },
  {
   "cell_type": "code",
   "execution_count": 6,
   "id": "a734bc27",
   "metadata": {},
   "outputs": [
    {
     "data": {
      "text/plain": [
       "0      minimum qualifications\\nbachelors degree or eq...\n",
       "1      description\\nas an asc you will be highly infl...\n",
       "2      its an amazing time to be joining netflix as w...\n",
       "3      description\\n\\nweb designers looking to expand...\n",
       "4      at trackfive weve got big goals were on a miss...\n",
       "                             ...                        \n",
       "848    job description\\n\\nparttime\\n\\nmake big money ...\n",
       "849    responsibilities\\nparkers internship program w...\n",
       "850     the borgen project is an innovative national ...\n",
       "851    put the world on vacation\\n\\nat wyndham destin...\n",
       "852    this job handles customer inquiries by telepho...\n",
       "Name: job_description, Length: 853, dtype: object"
      ]
     },
     "execution_count": 6,
     "metadata": {},
     "output_type": "execute_result"
    }
   ],
   "source": [
    "jd = pd.read_csv(job_data)\n",
    "jd['job_description']"
   ]
  },
  {
   "cell_type": "code",
   "execution_count": 7,
   "id": "9a0c1006-dad4-46ae-9e76-5b141841f7a9",
   "metadata": {},
   "outputs": [],
   "source": [
    "# jd['job_description'].sample(10)"
   ]
  },
  {
   "cell_type": "markdown",
   "id": "aec71878-0a88-46bb-a881-2fe87dbdeec7",
   "metadata": {},
   "source": [
    "#### Getting Skills list to extarct skills from job-description"
   ]
  },
  {
   "cell_type": "code",
   "execution_count": 8,
   "id": "6e23e791-622b-4de7-ac19-69554ab31dee",
   "metadata": {},
   "outputs": [
    {
     "data": {
      "text/plain": [
       "Index(['technical skills', 'ajenti', 'django-suit', 'django-xadmin',\n",
       "       'flask-admin', 'flower', 'grappelli', 'wooey', 'algorithms',\n",
       "       'pypattyrn',\n",
       "       ...\n",
       "       'virtualized networks', 'network automation', 'cloud management', 'ai',\n",
       "       'salesforce', 'mango db', 'math', 'calculus', 'product launch', 'mvp'],\n",
       "      dtype='object', length=1249)"
      ]
     },
     "execution_count": 8,
     "metadata": {},
     "output_type": "execute_result"
    }
   ],
   "source": [
    "skills_list = pd.read_csv(skills_data)\n",
    "skills_list = skills_list.columns\n",
    "skills_list"
   ]
  },
  {
   "cell_type": "markdown",
   "id": "467ec8fe-687d-4b71-8f69-3fc264cf0376",
   "metadata": {},
   "source": [
    "#### Text preprocessing"
   ]
  },
  {
   "cell_type": "code",
   "execution_count": 9,
   "id": "a38c29fd-3d0b-4d90-9da7-e22875ef103c",
   "metadata": {},
   "outputs": [],
   "source": [
    "# converting to lower case\n",
    "jd['clean_job_description'] = jd['job_description'].apply(lambda x: \" \".join(x.lower()for x in x.split()))\n",
    "# removing tabulation and punctuation\n",
    "jd['clean_job_description'] = jd['clean_job_description'].str.replace('[^\\w\\s]',' ')\n",
    "# removing digits\n",
    "jd['clean_job_description'] = jd['clean_job_description'].str.replace('\\d+', '')\n",
    "# removing stop words\n",
    "jd['clean_job_description'] = jd['clean_job_description'].apply(lambda x: \" \".join(x for x in x.split() if x not in stop_words))\n",
    "# lemmatization\n",
    "# jd['clean_job_description'] = jd['clean_job_description'].apply(lambda x: \" \".join([wordnet_lemmatizer.lemmatize(word) for word in x.split()]))\n",
    "\n",
    "jd['clean_job_description'] = jd['clean_job_description'].apply(lambda x: \" \".join([word for word in x.split() if word in skills_list]))"
   ]
  },
  {
   "cell_type": "code",
   "execution_count": 10,
   "id": "6605dfcf-3687-47fe-95b8-f5b33c85884a",
   "metadata": {},
   "outputs": [],
   "source": [
    "# Deleting more stop words\n",
    "# other_stop_words = ['junior', 'senior','experience','etc','job','work','company','technique',\n",
    "#                     'candidate','skill','skills','language','menu','inc','new','plus','years',\n",
    "#                    'technology','organization','ceo','cto','account','manager','data','scientist','mobile',\n",
    "#                     'developer','product','revenue','strong', 'description', 'qualification', 'minimum', 'maximum', 'joining', 'amazing']\n",
    "\n",
    "# jd['clean_job_description'] = jd['clean_job_description'].apply(lambda x: \" \".join(x for x in x.split() if x not in other_stop_words))"
   ]
  },
  {
   "cell_type": "code",
   "execution_count": 11,
   "id": "6746931f-4688-4061-abbf-e7dee171366d",
   "metadata": {},
   "outputs": [
    {
     "data": {
      "text/html": [
       "<div>\n",
       "<style scoped>\n",
       "    .dataframe tbody tr th:only-of-type {\n",
       "        vertical-align: middle;\n",
       "    }\n",
       "\n",
       "    .dataframe tbody tr th {\n",
       "        vertical-align: top;\n",
       "    }\n",
       "\n",
       "    .dataframe thead th {\n",
       "        text-align: right;\n",
       "    }\n",
       "</style>\n",
       "<table border=\"1\" class=\"dataframe\">\n",
       "  <thead>\n",
       "    <tr style=\"text-align: right;\">\n",
       "      <th></th>\n",
       "      <th>company_name</th>\n",
       "      <th>job_description</th>\n",
       "      <th>position_title</th>\n",
       "      <th>description_length</th>\n",
       "      <th>model_response</th>\n",
       "      <th>clean_job_description</th>\n",
       "    </tr>\n",
       "  </thead>\n",
       "  <tbody>\n",
       "    <tr>\n",
       "      <th>0</th>\n",
       "      <td>Google</td>\n",
       "      <td>minimum qualifications\\nbachelors degree or eq...</td>\n",
       "      <td>Sales Specialist</td>\n",
       "      <td>2727</td>\n",
       "      <td>{\\n  \"Core Responsibilities\": \"Responsible fo...</td>\n",
       "      <td>saas sales partnerships plan communication clo...</td>\n",
       "    </tr>\n",
       "    <tr>\n",
       "      <th>1</th>\n",
       "      <td>Apple</td>\n",
       "      <td>description\\nas an asc you will be highly infl...</td>\n",
       "      <td>Apple Solutions Consultant</td>\n",
       "      <td>828</td>\n",
       "      <td>{\\n  \"Core Responsibilities\": \"as an asc you ...</td>\n",
       "      <td>visual merchandising communication sales</td>\n",
       "    </tr>\n",
       "    <tr>\n",
       "      <th>2</th>\n",
       "      <td>Netflix</td>\n",
       "      <td>its an amazing time to be joining netflix as w...</td>\n",
       "      <td>Licensing Coordinator - Consumer Products</td>\n",
       "      <td>3205</td>\n",
       "      <td>{\\n  \"Core Responsibilities\": \"Help drive bus...</td>\n",
       "      <td>tv content partnerships licensing content cont...</td>\n",
       "    </tr>\n",
       "    <tr>\n",
       "      <th>3</th>\n",
       "      <td>Robert Half</td>\n",
       "      <td>description\\n\\nweb designers looking to expand...</td>\n",
       "      <td>Web Designer</td>\n",
       "      <td>2489</td>\n",
       "      <td>{\\n  \"Core Responsibilities\": \"Designing webs...</td>\n",
       "      <td>marketing process brand mobile interactive tes...</td>\n",
       "    </tr>\n",
       "    <tr>\n",
       "      <th>4</th>\n",
       "      <td>TrackFive</td>\n",
       "      <td>at trackfive weve got big goals were on a miss...</td>\n",
       "      <td>Web Developer</td>\n",
       "      <td>3167</td>\n",
       "      <td>{\\n  \"Core Responsibilities\": \"Build and layo...</td>\n",
       "      <td>recruiting blaze startup process lifecycle cod...</td>\n",
       "    </tr>\n",
       "  </tbody>\n",
       "</table>\n",
       "</div>"
      ],
      "text/plain": [
       "  company_name                                    job_description  \\\n",
       "0       Google  minimum qualifications\\nbachelors degree or eq...   \n",
       "1        Apple  description\\nas an asc you will be highly infl...   \n",
       "2      Netflix  its an amazing time to be joining netflix as w...   \n",
       "3  Robert Half  description\\n\\nweb designers looking to expand...   \n",
       "4    TrackFive  at trackfive weve got big goals were on a miss...   \n",
       "\n",
       "                              position_title  description_length  \\\n",
       "0                           Sales Specialist                2727   \n",
       "1                 Apple Solutions Consultant                 828   \n",
       "2  Licensing Coordinator - Consumer Products                3205   \n",
       "3                               Web Designer                2489   \n",
       "4                              Web Developer                3167   \n",
       "\n",
       "                                      model_response  \\\n",
       "0   {\\n  \"Core Responsibilities\": \"Responsible fo...   \n",
       "1   {\\n  \"Core Responsibilities\": \"as an asc you ...   \n",
       "2   {\\n  \"Core Responsibilities\": \"Help drive bus...   \n",
       "3   {\\n  \"Core Responsibilities\": \"Designing webs...   \n",
       "4   {\\n  \"Core Responsibilities\": \"Build and layo...   \n",
       "\n",
       "                               clean_job_description  \n",
       "0  saas sales partnerships plan communication clo...  \n",
       "1           visual merchandising communication sales  \n",
       "2  tv content partnerships licensing content cont...  \n",
       "3  marketing process brand mobile interactive tes...  \n",
       "4  recruiting blaze startup process lifecycle cod...  "
      ]
     },
     "execution_count": 11,
     "metadata": {},
     "output_type": "execute_result"
    }
   ],
   "source": [
    "jd.head()"
   ]
  },
  {
   "cell_type": "markdown",
   "id": "a8cff071-5b15-4f8e-8bd4-58466bd6c292",
   "metadata": {},
   "source": [
    "#### Using DistillBERT to calculate Text Embedding/Vector"
   ]
  },
  {
   "cell_type": "code",
   "execution_count": 12,
   "id": "91a7e3ef-9a06-4f32-95a1-c772cae27370",
   "metadata": {},
   "outputs": [],
   "source": [
    "def embedding_text(text):\n",
    "    tokenizer = DistilBertTokenizer.from_pretrained('distilbert-base-cased')\n",
    "    model = DistilBertModel.from_pretrained(\"distilbert-base-cased\")\n",
    "    encoded_dict = tokenizer.encode_plus(\n",
    "                            text,                      \n",
    "                            add_special_tokens = True, \n",
    "                            max_length = 64,           \n",
    "                            pad_to_max_length = True,\n",
    "                            return_attention_mask = True,   \n",
    "                            return_tensors = 'pt',    \n",
    "                            truncation = True\n",
    "                       )\n",
    "    output = model(encoded_dict['input_ids'],encoded_dict['attention_mask'])\n",
    "    return output"
   ]
  },
  {
   "cell_type": "markdown",
   "id": "11d94340-7b98-4971-8ab3-e6eee2f16f23",
   "metadata": {},
   "source": [
    "#### Calculating Similarity MAtrix"
   ]
  },
  {
   "cell_type": "code",
   "execution_count": 13,
   "id": "03d3e38e",
   "metadata": {},
   "outputs": [
    {
     "name": "stderr",
     "output_type": "stream",
     "text": [
      "'(ReadTimeoutError(\"HTTPSConnectionPool(host='huggingface.co', port=443): Read timed out. (read timeout=10)\"), '(Request ID: b111124d-e97b-4223-872c-535a599b2432)')' thrown while requesting HEAD https://huggingface.co/distilbert-base-cased/resolve/main/config.json\n"
     ]
    }
   ],
   "source": [
    "recommended_data = []\n",
    "for l in range(15):\n",
    "    em1 = np.squeeze(embedding_text(jd['clean_job_description'][l])[0].detach().numpy())\n",
    "    for i in range(len(res_data)):\n",
    "        # score_list = []\n",
    "        # recommended_data.append(i)\n",
    "        em2 = np.squeeze(embedding_text(res_data['Skills'][i])[0].detach().numpy())\n",
    "        similarity_score = cosine_similarity(em1, em2)\n",
    "        score = similarity_score.mean()\n",
    "        recommended_data.append([jd['job_description'][l], res_data['Path'][i], score]) \n",
    "    "
   ]
  },
  {
   "cell_type": "code",
   "execution_count": 14,
   "id": "6299e69e",
   "metadata": {},
   "outputs": [],
   "source": [
    "res_df = pd.DataFrame(recommended_data, columns = ['Job_Description','Resume_Path','Score'])              "
   ]
  },
  {
   "cell_type": "code",
   "execution_count": 15,
   "id": "066dc7c4-95fe-465f-aa84-da8f7d3a7bda",
   "metadata": {},
   "outputs": [],
   "source": [
    "# res_df.groupby('Job_Description').apply(lambda x: x.sort_values([\"Score\"], ascending = False)).reset_index(drop=True)"
   ]
  },
  {
   "cell_type": "markdown",
   "id": "ee4543fc-cb5b-449a-820b-d5ed9e9eee7f",
   "metadata": {},
   "source": [
    "#### Final result with path to top 5 resume as per given job description"
   ]
  },
  {
   "cell_type": "code",
   "execution_count": 16,
   "id": "021a0693-6d18-4fdf-b639-eb62864e6ea5",
   "metadata": {},
   "outputs": [
    {
     "data": {
      "text/html": [
       "<div>\n",
       "<style scoped>\n",
       "    .dataframe tbody tr th:only-of-type {\n",
       "        vertical-align: middle;\n",
       "    }\n",
       "\n",
       "    .dataframe tbody tr th {\n",
       "        vertical-align: top;\n",
       "    }\n",
       "\n",
       "    .dataframe thead th {\n",
       "        text-align: right;\n",
       "    }\n",
       "</style>\n",
       "<table border=\"1\" class=\"dataframe\">\n",
       "  <thead>\n",
       "    <tr style=\"text-align: right;\">\n",
       "      <th></th>\n",
       "      <th>Job_Description</th>\n",
       "      <th>Resume_Path</th>\n",
       "      <th>Score</th>\n",
       "    </tr>\n",
       "  </thead>\n",
       "  <tbody>\n",
       "    <tr>\n",
       "      <th>5257</th>\n",
       "      <td>web developer\\n\\njob id \\n\\n positions \\n\\nloc...</td>\n",
       "      <td>./Resume-Data/data/AGRICULTURE/19851252.pdf</td>\n",
       "      <td>0.738522</td>\n",
       "    </tr>\n",
       "    <tr>\n",
       "      <th>5429</th>\n",
       "      <td>web developer\\n\\njob id \\n\\n positions \\n\\nloc...</td>\n",
       "      <td>./Resume-Data/data/ARTS/20488267.pdf</td>\n",
       "      <td>0.737607</td>\n",
       "    </tr>\n",
       "    <tr>\n",
       "      <th>5420</th>\n",
       "      <td>web developer\\n\\njob id \\n\\n positions \\n\\nloc...</td>\n",
       "      <td>./Resume-Data/data/ARTS/18319061.pdf</td>\n",
       "      <td>0.737114</td>\n",
       "    </tr>\n",
       "    <tr>\n",
       "      <th>5445</th>\n",
       "      <td>web developer\\n\\njob id \\n\\n positions \\n\\nloc...</td>\n",
       "      <td>./Resume-Data/data/ARTS/25561640.pdf</td>\n",
       "      <td>0.734299</td>\n",
       "    </tr>\n",
       "    <tr>\n",
       "      <th>5251</th>\n",
       "      <td>web developer\\n\\njob id \\n\\n positions \\n\\nloc...</td>\n",
       "      <td>./Resume-Data/data/AGRICULTURE/17312146.pdf</td>\n",
       "      <td>0.733815</td>\n",
       "    </tr>\n",
       "    <tr>\n",
       "      <th>...</th>\n",
       "      <td>...</td>\n",
       "      <td>...</td>\n",
       "      <td>...</td>\n",
       "    </tr>\n",
       "    <tr>\n",
       "      <th>6757</th>\n",
       "      <td>design develop and test high quality software...</td>\n",
       "      <td>./Resume-Data/data/AGRICULTURE/19851252.pdf</td>\n",
       "      <td>0.739425</td>\n",
       "    </tr>\n",
       "    <tr>\n",
       "      <th>6929</th>\n",
       "      <td>design develop and test high quality software...</td>\n",
       "      <td>./Resume-Data/data/ARTS/20488267.pdf</td>\n",
       "      <td>0.722486</td>\n",
       "    </tr>\n",
       "    <tr>\n",
       "      <th>6743</th>\n",
       "      <td>design develop and test high quality software...</td>\n",
       "      <td>./Resume-Data/data/AGRICULTURE/15053703.pdf</td>\n",
       "      <td>0.717453</td>\n",
       "    </tr>\n",
       "    <tr>\n",
       "      <th>6939</th>\n",
       "      <td>design develop and test high quality software...</td>\n",
       "      <td>./Resume-Data/data/ARTS/23752500.pdf</td>\n",
       "      <td>0.714248</td>\n",
       "    </tr>\n",
       "    <tr>\n",
       "      <th>6751</th>\n",
       "      <td>design develop and test high quality software...</td>\n",
       "      <td>./Resume-Data/data/AGRICULTURE/17312146.pdf</td>\n",
       "      <td>0.713703</td>\n",
       "    </tr>\n",
       "  </tbody>\n",
       "</table>\n",
       "<p>75 rows × 3 columns</p>\n",
       "</div>"
      ],
      "text/plain": [
       "                                        Job_Description  \\\n",
       "5257  web developer\\n\\njob id \\n\\n positions \\n\\nloc...   \n",
       "5429  web developer\\n\\njob id \\n\\n positions \\n\\nloc...   \n",
       "5420  web developer\\n\\njob id \\n\\n positions \\n\\nloc...   \n",
       "5445  web developer\\n\\njob id \\n\\n positions \\n\\nloc...   \n",
       "5251  web developer\\n\\njob id \\n\\n positions \\n\\nloc...   \n",
       "...                                                 ...   \n",
       "6757   design develop and test high quality software...   \n",
       "6929   design develop and test high quality software...   \n",
       "6743   design develop and test high quality software...   \n",
       "6939   design develop and test high quality software...   \n",
       "6751   design develop and test high quality software...   \n",
       "\n",
       "                                      Resume_Path     Score  \n",
       "5257  ./Resume-Data/data/AGRICULTURE/19851252.pdf  0.738522  \n",
       "5429         ./Resume-Data/data/ARTS/20488267.pdf  0.737607  \n",
       "5420         ./Resume-Data/data/ARTS/18319061.pdf  0.737114  \n",
       "5445         ./Resume-Data/data/ARTS/25561640.pdf  0.734299  \n",
       "5251  ./Resume-Data/data/AGRICULTURE/17312146.pdf  0.733815  \n",
       "...                                           ...       ...  \n",
       "6757  ./Resume-Data/data/AGRICULTURE/19851252.pdf  0.739425  \n",
       "6929         ./Resume-Data/data/ARTS/20488267.pdf  0.722486  \n",
       "6743  ./Resume-Data/data/AGRICULTURE/15053703.pdf  0.717453  \n",
       "6939         ./Resume-Data/data/ARTS/23752500.pdf  0.714248  \n",
       "6751  ./Resume-Data/data/AGRICULTURE/17312146.pdf  0.713703  \n",
       "\n",
       "[75 rows x 3 columns]"
      ]
     },
     "execution_count": 16,
     "metadata": {},
     "output_type": "execute_result"
    }
   ],
   "source": [
    "final_df = res_df.sort_values(['Job_Description', 'Score'],ascending=False).groupby('Job_Description').head(5)\n",
    "final_df"
   ]
  },
  {
   "cell_type": "code",
   "execution_count": 17,
   "id": "4fadc29a",
   "metadata": {},
   "outputs": [],
   "source": [
    "# with open(path_list[0],'rb') as f:\n",
    "#     reader = PdfReader(f)\n",
    "# #     info = reader.getDocumentInfo()\n",
    "# #     print(info)\n",
    "#     for page in reader.pages:\n",
    "#         txt = page.extract_text()\n",
    "        \n",
    "# doc = fitz.open(path_list[1])\n",
    "# text = \"\"\n",
    "# for page in doc:\n",
    "#    text+=page.get_text()\n"
   ]
  },
  {
   "cell_type": "code",
   "execution_count": null,
   "id": "e9a47196",
   "metadata": {},
   "outputs": [],
   "source": []
  },
  {
   "cell_type": "code",
   "execution_count": null,
   "id": "66a9778a",
   "metadata": {},
   "outputs": [],
   "source": []
  }
 ],
 "metadata": {
  "kernelspec": {
   "display_name": "Python 3 (ipykernel)",
   "language": "python",
   "name": "python3"
  },
  "language_info": {
   "codemirror_mode": {
    "name": "ipython",
    "version": 3
   },
   "file_extension": ".py",
   "mimetype": "text/x-python",
   "name": "python",
   "nbconvert_exporter": "python",
   "pygments_lexer": "ipython3",
   "version": "3.9.18"
  }
 },
 "nbformat": 4,
 "nbformat_minor": 5
}
